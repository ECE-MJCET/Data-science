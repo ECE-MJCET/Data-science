{
 "cells": [
  {
   "cell_type": "code",
   "id": "initial_id",
   "metadata": {
    "collapsed": true,
    "ExecuteTime": {
     "end_time": "2024-09-25T06:29:08.815220Z",
     "start_time": "2024-09-25T06:29:02.054219Z"
    }
   },
   "source": [
    "#step 1: import tkinter\n",
    "from tkinter import *\n",
    "#step 2: GUI interaction\n",
    "window = Tk()\n",
    "#step 3: adding inputs\n",
    "inp = Label(window,text=\"hello world!\")\n",
    "inp.pack()\n",
    "#step 4: main loop\n",
    "window.mainloop()"
   ],
   "outputs": [],
   "execution_count": 1
  },
  {
   "metadata": {
    "ExecuteTime": {
     "end_time": "2024-09-25T06:29:21.046751Z",
     "start_time": "2024-09-25T06:29:09.334641Z"
    }
   },
   "cell_type": "code",
   "source": [
    "from tkinter import *\n",
    "window = Tk()\n",
    "window.title(\"calculator\")\n",
    "window.geometry('350x200')\n",
    "\n",
    "global n1, math\n",
    "\n",
    "#Function to click\n",
    "def click(number):\n",
    "    current = e.get()\n",
    "    e.delete(0, END)\n",
    "    e.insert(0, str(current) + str(number))\n",
    "\n",
    "#Function to clear\n",
    "def clear():\n",
    "    e.delete(0, END)\n",
    "\n",
    "#Function to equal\n",
    "def equal():\n",
    "    global n1, math\n",
    "    n2 = int(e.get())\n",
    "    e.delete(0, END)\n",
    "\n",
    "    if math == \"addition\":\n",
    "        e.insert(0, n1 + n2)\n",
    "    elif math == \"subtract\":\n",
    "        e.insert(0, n1 - n2)\n",
    "    elif math == \"divide\":\n",
    "        e.insert(0, n1 / n2)\n",
    "    elif math == \"multiply\":\n",
    "        e.insert(0, n1 * n2)\n",
    "\n",
    "#Function to add\n",
    "def add():\n",
    "    global n1,math\n",
    "    n1,math =  int(e.get()),\"addition\"\n",
    "    e.delete(0, END)\n",
    "\n",
    "#Function subtract\n",
    "def subtract():\n",
    "    global n1, math\n",
    "    n1, math = int(e.get()), \"subtract\"\n",
    "    e.delete(0, END)\n",
    "\n",
    "\n",
    "#Function divide\n",
    "def divide():\n",
    "    global n1, math\n",
    "    n1, math = int(e.get()), \"divide\"\n",
    "    e.delete(0, END)\n",
    "\n",
    "#Function Multiply\n",
    "def multiply():\n",
    "    global n1, math\n",
    "    n1, math = int(e.get()), \"multiply\"\n",
    "    e.delete(0, END)\n",
    "#Entery box\n",
    "e = Entry(window, width=47, borderwidth=10)\n",
    "e.place(x=0, y=0)\n",
    "\n",
    "# Buttons\n",
    "\n",
    "Button(window, text=\"1\", width=5, command=lambda: click(1)).place(x=10, y=50)\n",
    "Button(window, text=\"2\", width=5, command=lambda: click(2)).place(x=59, y=50)\n",
    "Button(window, text=\"3\", width=5, command=lambda: click(3)).place(x=107, y=50)\n",
    "Button(window, text=\"4\", width=5, command=lambda: click(4)).place(x=10, y=80)\n",
    "Button(window, text=\"5\", width=5, command=lambda: click(5)).place(x=59, y=80)\n",
    "Button(window, text=\"6\", width=5, command=lambda: click(6)).place(x=107, y=80)\n",
    "Button(window, text=\"7\", width=5, command=lambda: click(7)).place(x=10, y=110)\n",
    "Button(window, text=\"8\", width=5, command=lambda: click(8)).place(x=59, y=110)\n",
    "Button(window, text=\"9\", width=5, command=lambda: click(9)).place(x=107, y=110)\n",
    "Button(window, text=\"0\", width=5, command=lambda: click(0)).place(x=59, y=145)\n",
    "\n",
    "Button(window, text=\"+\", width=10, command=add).place(x=170, y=80)\n",
    "Button(window, text=\"-\", width=10, command=subtract).place(x=260, y=80)\n",
    "Button(window, text=\"*\", width=10, command=multiply).place(x=170, y=110)\n",
    "Button(window, text=\"/\", width=10, command=divide).place(x=260, y=110)\n",
    "Button(window, text=\"=\", width=23, command=equal).place(x=170, y=150)\n",
    "Button(window, text=\"CLEAR\", width=7, command=clear).place(x=280, y=50)\n",
    "\n",
    "window.mainloop()"
   ],
   "id": "2dec01bffe49394a",
   "outputs": [],
   "execution_count": 2
  },
  {
   "metadata": {
    "ExecuteTime": {
     "end_time": "2024-09-25T06:29:22.060821Z",
     "start_time": "2024-09-25T06:29:22.051598Z"
    }
   },
   "cell_type": "code",
   "source": "",
   "id": "11d61e12a53791a2",
   "outputs": [],
   "execution_count": null
  }
 ],
 "metadata": {
  "kernelspec": {
   "display_name": "Python 3",
   "language": "python",
   "name": "python3"
  },
  "language_info": {
   "codemirror_mode": {
    "name": "ipython",
    "version": 2
   },
   "file_extension": ".py",
   "mimetype": "text/x-python",
   "name": "python",
   "nbconvert_exporter": "python",
   "pygments_lexer": "ipython2",
   "version": "2.7.6"
  }
 },
 "nbformat": 4,
 "nbformat_minor": 5
}
